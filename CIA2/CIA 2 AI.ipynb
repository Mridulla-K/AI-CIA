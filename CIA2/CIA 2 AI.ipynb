{
  "cells": [
    {
      "cell_type": "markdown",
      "source": [
        "**CIA-2\n",
        "MIN-MAX AND ALPHA BETA PRUNING**\n",
        "\n",
        "Mridulla K Madhu 22011103029"
      ],
      "metadata": {
        "id": "bp1Ib56laOBv"
      },
      "id": "bp1Ib56laOBv"
    },
    {
      "cell_type": "markdown",
      "source": [
        "1.Min-Max where it maximizes"
      ],
      "metadata": {
        "id": "MCYQceN_agwG"
      },
      "id": "MCYQceN_agwG"
    },
    {
      "cell_type": "code",
      "source": [
        "import math\n",
        "def minimax(depth, nodeIndex, isMaximizingPlayer, values, maxDepth):\n",
        "    #terminal node(leaf nodes)\n",
        "    if depth == maxDepth:\n",
        "        print(f\"Leaf node reached at depth {depth}, returning value: {values[nodeIndex]}\")\n",
        "        return values[nodeIndex]\n",
        "\n",
        "    if isMaximizingPlayer:\n",
        "        best = -math.inf\n",
        "\n",
        "        #print(f\"Maximizer at depth {depth}, evaluating children of node {nodeIndex}\")\n",
        "        print(f\"Maximizer at depth {depth}\")\n",
        "        #maximizer's choice (MAX player)\n",
        "        for i in range(2):\n",
        "            value = minimax(depth + 1, nodeIndex * 2 + i, False, values, maxDepth)\n",
        "            print(f\"Maximizer at depth {depth}, comparing value: {value} with best: {best}\")\n",
        "            best = max(best, value)\n",
        "        print(f\"Maximizer at depth {depth}, selected best: {best}\")\n",
        "        return best\n",
        "    else:\n",
        "        best = math.inf\n",
        "\n",
        "        #print(f\"Minimizer at depth {depth}, evaluating children of node {nodeIndex}\")\n",
        "        print(f\"Minimizer at depth {depth}\")\n",
        "        #minimizer's choice (MIN player)\n",
        "        for i in range(2):\n",
        "            value = minimax(depth + 1, nodeIndex * 2 + i, True, values, maxDepth)\n",
        "            print(f\"Minimizer at depth {depth}, comparing value: {value} with best: {best}\")\n",
        "            best = min(best, value)\n",
        "        print(f\"Minimizer at depth {depth}, selected best: {best}\")\n",
        "        return best"
      ],
      "metadata": {
        "id": "Dzf9coqFZP8d"
      },
      "id": "Dzf9coqFZP8d",
      "execution_count": 4,
      "outputs": []
    },
    {
      "cell_type": "code",
      "source": [
        "maxDepth = 3\n",
        "#values = [10, 9, 14, 18, 5, 4, 50, 3]\n",
        "values = [-1,4,2,6,-3,-5,0,7]\n",
        "optimalValue = minimax(0, 0, True, values, maxDepth)\n",
        "\n",
        "print(\"\\nThe optimal value is:\", optimalValue)"
      ],
      "metadata": {
        "colab": {
          "base_uri": "https://localhost:8080/"
        },
        "id": "D4svIk_XZiFV",
        "outputId": "b11d8f46-3c14-42c3-87a6-2c06edfc3480"
      },
      "id": "D4svIk_XZiFV",
      "execution_count": 5,
      "outputs": [
        {
          "output_type": "stream",
          "name": "stdout",
          "text": [
            "Maximizer at depth 0\n",
            "Minimizer at depth 1\n",
            "Maximizer at depth 2\n",
            "Leaf node reached at depth 3, returning value: -1\n",
            "Maximizer at depth 2, comparing value: -1 with best: -inf\n",
            "Leaf node reached at depth 3, returning value: 4\n",
            "Maximizer at depth 2, comparing value: 4 with best: -1\n",
            "Maximizer at depth 2, selected best: 4\n",
            "Minimizer at depth 1, comparing value: 4 with best: inf\n",
            "Maximizer at depth 2\n",
            "Leaf node reached at depth 3, returning value: 2\n",
            "Maximizer at depth 2, comparing value: 2 with best: -inf\n",
            "Leaf node reached at depth 3, returning value: 6\n",
            "Maximizer at depth 2, comparing value: 6 with best: 2\n",
            "Maximizer at depth 2, selected best: 6\n",
            "Minimizer at depth 1, comparing value: 6 with best: 4\n",
            "Minimizer at depth 1, selected best: 4\n",
            "Maximizer at depth 0, comparing value: 4 with best: -inf\n",
            "Minimizer at depth 1\n",
            "Maximizer at depth 2\n",
            "Leaf node reached at depth 3, returning value: -3\n",
            "Maximizer at depth 2, comparing value: -3 with best: -inf\n",
            "Leaf node reached at depth 3, returning value: -5\n",
            "Maximizer at depth 2, comparing value: -5 with best: -3\n",
            "Maximizer at depth 2, selected best: -3\n",
            "Minimizer at depth 1, comparing value: -3 with best: inf\n",
            "Maximizer at depth 2\n",
            "Leaf node reached at depth 3, returning value: 0\n",
            "Maximizer at depth 2, comparing value: 0 with best: -inf\n",
            "Leaf node reached at depth 3, returning value: 7\n",
            "Maximizer at depth 2, comparing value: 7 with best: 0\n",
            "Maximizer at depth 2, selected best: 7\n",
            "Minimizer at depth 1, comparing value: 7 with best: -3\n",
            "Minimizer at depth 1, selected best: -3\n",
            "Maximizer at depth 0, comparing value: -3 with best: 4\n",
            "Maximizer at depth 0, selected best: 4\n",
            "\n",
            "The optimal value is: 4\n"
          ]
        }
      ]
    },
    {
      "cell_type": "markdown",
      "source": [
        "Min-Max where it minimizes"
      ],
      "metadata": {
        "id": "y5OPNkyRamS0"
      },
      "id": "y5OPNkyRamS0"
    },
    {
      "cell_type": "code",
      "execution_count": 1,
      "id": "05cec40b-b73e-4aba-ab36-a5552b86d28d",
      "metadata": {
        "id": "05cec40b-b73e-4aba-ab36-a5552b86d28d"
      },
      "outputs": [],
      "source": [
        "import math\n",
        "\n",
        "def minimax(depth, nodeIndex, isMinimizingPlayer, values, maxDepth):\n",
        "    # Terminal node (leaf nodes)\n",
        "    if depth == maxDepth:\n",
        "        print(f\"Leaf node reached at depth {depth}, returning value: {values[nodeIndex]}\")\n",
        "        return values[nodeIndex]\n",
        "\n",
        "    if isMinimizingPlayer:\n",
        "        best = math.inf\n",
        "\n",
        "        print(f\"Minimizer at depth {depth}\")\n",
        "        # Minimizer's choice (MIN player)\n",
        "        for i in range(2):\n",
        "            value = minimax(depth + 1, nodeIndex * 2 + i, False, values, maxDepth)\n",
        "            print(f\"Minimizer at depth {depth}, comparing value: {value} with best: {best}\")\n",
        "            best = min(best, value)\n",
        "        print(f\"Minimizer at depth {depth}, selected best: {best}\")\n",
        "        return best\n",
        "    else:\n",
        "        best = -math.inf\n",
        "\n",
        "        print(f\"Maximizer at depth {depth}\")\n",
        "        # Maximizer's choice (MAX player)\n",
        "        for i in range(2):\n",
        "            value = minimax(depth + 1, nodeIndex * 2 + i, True, values, maxDepth)\n",
        "            print(f\"Maximizer at depth {depth}, comparing value: {value} with best: {best}\")\n",
        "            best = max(best, value)\n",
        "        print(f\"Maximizer at depth {depth}, selected best: {best}\")\n",
        "        return best\n"
      ]
    },
    {
      "cell_type": "code",
      "execution_count": 2,
      "id": "a024d5f1-080d-4263-a82f-95a8f22064f4",
      "metadata": {
        "colab": {
          "base_uri": "https://localhost:8080/"
        },
        "id": "a024d5f1-080d-4263-a82f-95a8f22064f4",
        "outputId": "bef307f3-5cab-446f-823f-4153f5c7bbb0"
      },
      "outputs": [
        {
          "output_type": "stream",
          "name": "stdout",
          "text": [
            "Minimizer at depth 0\n",
            "Maximizer at depth 1\n",
            "Minimizer at depth 2\n",
            "Leaf node reached at depth 3, returning value: -1\n",
            "Minimizer at depth 2, comparing value: -1 with best: inf\n",
            "Leaf node reached at depth 3, returning value: 4\n",
            "Minimizer at depth 2, comparing value: 4 with best: -1\n",
            "Minimizer at depth 2, selected best: -1\n",
            "Maximizer at depth 1, comparing value: -1 with best: -inf\n",
            "Minimizer at depth 2\n",
            "Leaf node reached at depth 3, returning value: 2\n",
            "Minimizer at depth 2, comparing value: 2 with best: inf\n",
            "Leaf node reached at depth 3, returning value: 6\n",
            "Minimizer at depth 2, comparing value: 6 with best: 2\n",
            "Minimizer at depth 2, selected best: 2\n",
            "Maximizer at depth 1, comparing value: 2 with best: -1\n",
            "Maximizer at depth 1, selected best: 2\n",
            "Minimizer at depth 0, comparing value: 2 with best: inf\n",
            "Maximizer at depth 1\n",
            "Minimizer at depth 2\n",
            "Leaf node reached at depth 3, returning value: -3\n",
            "Minimizer at depth 2, comparing value: -3 with best: inf\n",
            "Leaf node reached at depth 3, returning value: -5\n",
            "Minimizer at depth 2, comparing value: -5 with best: -3\n",
            "Minimizer at depth 2, selected best: -5\n",
            "Maximizer at depth 1, comparing value: -5 with best: -inf\n",
            "Minimizer at depth 2\n",
            "Leaf node reached at depth 3, returning value: 0\n",
            "Minimizer at depth 2, comparing value: 0 with best: inf\n",
            "Leaf node reached at depth 3, returning value: 7\n",
            "Minimizer at depth 2, comparing value: 7 with best: 0\n",
            "Minimizer at depth 2, selected best: 0\n",
            "Maximizer at depth 1, comparing value: 0 with best: -5\n",
            "Maximizer at depth 1, selected best: 0\n",
            "Minimizer at depth 0, comparing value: 0 with best: 2\n",
            "Minimizer at depth 0, selected best: 0\n",
            "\n",
            "The optimal value is: 0\n"
          ]
        }
      ],
      "source": [
        "maxDepth = 3\n",
        "#values = [10, 9, 14, 18, 5, 4, 50, 3]\n",
        "values = [-1,4,2,6,-3,-5,0,7]\n",
        "optimalValue = minimax(0, 0, True, values, maxDepth)\n",
        "\n",
        "print(\"\\nThe optimal value is:\", optimalValue)"
      ]
    },
    {
      "cell_type": "markdown",
      "source": [
        "2.Alpha beta pruning with both maximizer and minimizer"
      ],
      "metadata": {
        "id": "uwgcQvVDarR-"
      },
      "id": "uwgcQvVDarR-"
    },
    {
      "cell_type": "code",
      "source": [
        "import math\n",
        "\n",
        "def minimax(depth, nodeIndex, isMinimizingPlayer, values, maxDepth, alpha, beta):\n",
        "    if depth == maxDepth:\n",
        "        print(f\"Leaf node reached at depth {depth}, returning value: {values[nodeIndex]}\")\n",
        "        return values[nodeIndex]\n",
        "\n",
        "    if isMinimizingPlayer:\n",
        "        best = math.inf\n",
        "        print(f\"Minimizer at depth {depth}\")\n",
        "\n",
        "        for i in range(2):\n",
        "            value = minimax(depth + 1, nodeIndex * 2 + i, False, values, maxDepth, alpha, beta)\n",
        "            print(f\"Minimizer at depth {depth}, comparing value: {value} with best: {best}\")\n",
        "            best = min(best, value)\n",
        "            beta = min(beta, best)\n",
        "\n",
        "            if beta <= alpha:\n",
        "                print(f\"Minimizer at depth {depth}, pruning branches with beta: {beta} and alpha: {alpha}\")\n",
        "                break\n",
        "\n",
        "        print(f\"Minimizer at depth {depth}, selected best: {best}\")\n",
        "        return best\n",
        "    else:\n",
        "        best = -math.inf\n",
        "        print(f\"Maximizer at depth {depth}\")\n",
        "\n",
        "        for i in range(2):\n",
        "            value = minimax(depth + 1, nodeIndex * 2 + i, True, values, maxDepth, alpha, beta)\n",
        "            print(f\"Maximizer at depth {depth}, comparing value: {value} with best: {best}\")\n",
        "            best = max(best, value)\n",
        "            alpha = max(alpha, best)\n",
        "\n",
        "            if beta <= alpha:\n",
        "                print(f\"Maximizer at depth {depth}, pruning branches with beta: {beta} and alpha: {alpha}\")\n",
        "                break\n",
        "\n",
        "        print(f\"Maximizer at depth {depth}, selected best: {best}\")\n",
        "        return best\n",
        "\n",
        "maxDepth = 3\n",
        "alpha = -math.inf\n",
        "beta = math.inf\n",
        "values = [-1,4,2,6,-3,-5,0,7]\n",
        "result = minimax(0, 0, True, values, maxDepth, alpha, beta)\n",
        "print(f\"Optimal  for minimizer: {result}\\n\")\n",
        "result = minimax(0, 0, False, values, maxDepth, alpha, beta)\n",
        "print(f\"Optimal value for maximizer: {result}\")\n"
      ],
      "metadata": {
        "colab": {
          "base_uri": "https://localhost:8080/"
        },
        "id": "BAbgFFEFXdSu",
        "outputId": "a210740b-829e-49fc-9ad0-fe58623422e0"
      },
      "id": "BAbgFFEFXdSu",
      "execution_count": 6,
      "outputs": [
        {
          "output_type": "stream",
          "name": "stdout",
          "text": [
            "Minimizer at depth 0\n",
            "Maximizer at depth 1\n",
            "Minimizer at depth 2\n",
            "Leaf node reached at depth 3, returning value: -1\n",
            "Minimizer at depth 2, comparing value: -1 with best: inf\n",
            "Leaf node reached at depth 3, returning value: 4\n",
            "Minimizer at depth 2, comparing value: 4 with best: -1\n",
            "Minimizer at depth 2, selected best: -1\n",
            "Maximizer at depth 1, comparing value: -1 with best: -inf\n",
            "Minimizer at depth 2\n",
            "Leaf node reached at depth 3, returning value: 2\n",
            "Minimizer at depth 2, comparing value: 2 with best: inf\n",
            "Leaf node reached at depth 3, returning value: 6\n",
            "Minimizer at depth 2, comparing value: 6 with best: 2\n",
            "Minimizer at depth 2, selected best: 2\n",
            "Maximizer at depth 1, comparing value: 2 with best: -1\n",
            "Maximizer at depth 1, selected best: 2\n",
            "Minimizer at depth 0, comparing value: 2 with best: inf\n",
            "Maximizer at depth 1\n",
            "Minimizer at depth 2\n",
            "Leaf node reached at depth 3, returning value: -3\n",
            "Minimizer at depth 2, comparing value: -3 with best: inf\n",
            "Leaf node reached at depth 3, returning value: -5\n",
            "Minimizer at depth 2, comparing value: -5 with best: -3\n",
            "Minimizer at depth 2, selected best: -5\n",
            "Maximizer at depth 1, comparing value: -5 with best: -inf\n",
            "Minimizer at depth 2\n",
            "Leaf node reached at depth 3, returning value: 0\n",
            "Minimizer at depth 2, comparing value: 0 with best: inf\n",
            "Leaf node reached at depth 3, returning value: 7\n",
            "Minimizer at depth 2, comparing value: 7 with best: 0\n",
            "Minimizer at depth 2, selected best: 0\n",
            "Maximizer at depth 1, comparing value: 0 with best: -5\n",
            "Maximizer at depth 1, selected best: 0\n",
            "Minimizer at depth 0, comparing value: 0 with best: 2\n",
            "Minimizer at depth 0, selected best: 0\n",
            "Optimal  for minimizer: 0\n",
            "\n",
            "Maximizer at depth 0\n",
            "Minimizer at depth 1\n",
            "Maximizer at depth 2\n",
            "Leaf node reached at depth 3, returning value: -1\n",
            "Maximizer at depth 2, comparing value: -1 with best: -inf\n",
            "Leaf node reached at depth 3, returning value: 4\n",
            "Maximizer at depth 2, comparing value: 4 with best: -1\n",
            "Maximizer at depth 2, selected best: 4\n",
            "Minimizer at depth 1, comparing value: 4 with best: inf\n",
            "Maximizer at depth 2\n",
            "Leaf node reached at depth 3, returning value: 2\n",
            "Maximizer at depth 2, comparing value: 2 with best: -inf\n",
            "Leaf node reached at depth 3, returning value: 6\n",
            "Maximizer at depth 2, comparing value: 6 with best: 2\n",
            "Maximizer at depth 2, pruning branches with beta: 4 and alpha: 6\n",
            "Maximizer at depth 2, selected best: 6\n",
            "Minimizer at depth 1, comparing value: 6 with best: 4\n",
            "Minimizer at depth 1, selected best: 4\n",
            "Maximizer at depth 0, comparing value: 4 with best: -inf\n",
            "Minimizer at depth 1\n",
            "Maximizer at depth 2\n",
            "Leaf node reached at depth 3, returning value: -3\n",
            "Maximizer at depth 2, comparing value: -3 with best: -inf\n",
            "Leaf node reached at depth 3, returning value: -5\n",
            "Maximizer at depth 2, comparing value: -5 with best: -3\n",
            "Maximizer at depth 2, selected best: -3\n",
            "Minimizer at depth 1, comparing value: -3 with best: inf\n",
            "Minimizer at depth 1, pruning branches with beta: -3 and alpha: 4\n",
            "Minimizer at depth 1, selected best: -3\n",
            "Maximizer at depth 0, comparing value: -3 with best: 4\n",
            "Maximizer at depth 0, selected best: 4\n",
            "Optimal value for maximizer: 4\n"
          ]
        }
      ]
    }
  ],
  "metadata": {
    "kernelspec": {
      "display_name": "Python 3",
      "name": "python3"
    },
    "language_info": {
      "codemirror_mode": {
        "name": "ipython",
        "version": 3
      },
      "file_extension": ".py",
      "mimetype": "text/x-python",
      "name": "python",
      "nbconvert_exporter": "python",
      "pygments_lexer": "ipython3",
      "version": "3.9.19"
    },
    "colab": {
      "provenance": []
    }
  },
  "nbformat": 4,
  "nbformat_minor": 5
}